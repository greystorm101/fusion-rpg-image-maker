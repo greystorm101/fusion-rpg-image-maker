{
 "cells": [
  {
   "cell_type": "markdown",
   "metadata": {},
   "source": [
    "# Pokemon RPG Image Generator"
   ]
  },
  {
   "cell_type": "markdown",
   "metadata": {},
   "source": [
    "## To use: \n",
    "\n",
    "Run all code cells. When you see the cell saying `Modify Here`, put your text inputs in "
   ]
  },
  {
   "cell_type": "markdown",
   "metadata": {},
   "source": [
    "## Imports"
   ]
  },
  {
   "cell_type": "code",
   "execution_count": 1,
   "metadata": {},
   "outputs": [],
   "source": [
    "from PIL import Image"
   ]
  },
  {
   "cell_type": "markdown",
   "metadata": {},
   "source": [
    "## Setup images and text"
   ]
  },
  {
   "cell_type": "code",
   "execution_count": 212,
   "metadata": {},
   "outputs": [],
   "source": [
    "all_text = Image.open(\"images/text-sheet.png\")\n",
    "width, height = all_text.size\n",
    "text_width = 12\n",
    "text_height = 12\n",
    "\n",
    "chars = \"abcdefghijklmnopqrstuvwxyzABCDEFGHIJKLMNOPQRSTUVWXYZ1234567890:+-,.¡!¿?''“”♂♀_ /\"\n",
    "text_dict = {}\n",
    "\n",
    "i=0\n",
    "for char in chars:\n",
    "    text_dict[char] = all_text.crop((i*text_width,0,(i+1)*text_width,text_height))\n",
    "    i += 1\n"
   ]
  },
  {
   "cell_type": "markdown",
   "metadata": {},
   "source": [
    "# Modify Here\n",
    "\n",
    "This will create the faceplate for the image"
   ]
  },
  {
   "cell_type": "code",
   "execution_count": 214,
   "metadata": {},
   "outputs": [
    {
     "data": {
      "image/png": "[encoded data removed]",
      "text/plain": [
       "<PIL.Image.Image image mode=RGBA size=288x288>"
      ]
     },
     "execution_count": 214,
     "metadata": {},
     "output_type": "execute_result"
    }
   ],
   "source": [
    "# ---- Run this a few times until it looks correct ----\n",
    "\n",
    "POKEMON_IMAGE_PATH = \"images/171.446.png\"\n",
    "X_OFFSET = 10\n",
    "Y_OFFSET = 15\n",
    "\n",
    "# ---- Do not modify below here ---\n",
    "frame = Image.open(\"images/frame.png\")\n",
    "background = Image.open(\"images/background.png\")\n",
    "h,w = background.size\n",
    "pokemon = Image.open(POKEMON_IMAGE_PATH)\n",
    "pc = pokemon.resize((96,96)).crop((X_OFFSET, Y_OFFSET, X_OFFSET+w, Y_OFFSET+h))\n",
    "background.paste(pc, mask=pc)\n",
    "frame.paste(background, (4,4), mask=background)\n",
    "faceplate = frame\n",
    "\n",
    "faceplate.resize((288,288), resample=0)\n",
    "# frame.resize((288,288), resample=0)"
   ]
  },
  {
   "cell_type": "markdown",
   "metadata": {},
   "source": [
    "# Modify Here\n",
    "This is the content of the plate"
   ]
  },
  {
   "cell_type": "code",
   "execution_count": 215,
   "metadata": {},
   "outputs": [],
   "source": [
    "\n",
    "name = \"Test Name\"\n",
    "apples = 1\n",
    "ability_name = \"Lightning Rod\"\n",
    "\n",
    "# COLOR CHOICES\n",
    "COLOR_CHOICE = \"LIGHT_GREEN\""
   ]
  },
  {
   "cell_type": "code",
   "execution_count": 216,
   "metadata": {},
   "outputs": [],
   "source": [
    "vibes = background = Image.open(\"images/vibes.png\")\n",
    "vibes\n",
    "\n",
    "vibe_types = [\"RED\", \"RED_ORANGE\", \"ORANGE\", \n",
    "              \"ORANGE_YELLOW\", \"YELLOW\", \"LIGHT_YELLOW\", \n",
    "              \"LIGHT_GREEN\", \"GREEN\", \"BLUE_GREEN\", \"LIGHT_BLUE\", \n",
    "              \"BLUE\", \"PURPLE\", \"LIGHT_PINK\", \"PINK\", \"MAGENTA\"]\n",
    "vibe_dict = {}\n",
    "w,h = vibes.size\n",
    "screen_width = w/len(vibe_types)\n",
    "\n",
    "i=0\n",
    "for color in vibe_types:\n",
    "    vibe_dict[color] = vibes.crop((i*screen_width,0,(i+1)*screen_width,h))\n",
    "    i += 1"
   ]
  },
  {
   "cell_type": "code",
   "execution_count": 217,
   "metadata": {},
   "outputs": [],
   "source": [
    "im1 = vibe_dict[COLOR_CHOICE]\n",
    "w,h = im1.size\n",
    "im = im1.crop((0, 0, w, h/2))\n",
    "im\n",
    "\n",
    "im2 = vibe_dict[\"PINK\"]\n",
    "im2.paste(im, mask=im)\n",
    "\n",
    "im2 = im2.resize((w,h//2))"
   ]
  },
  {
   "cell_type": "code",
   "execution_count": 224,
   "metadata": {},
   "outputs": [],
   "source": [
    "im1 = vibe_dict[COLOR_CHOICE]\n",
    "w,h = im1.size\n",
    "im = im1.crop((0, 0, w, h/2))\n",
    "im\n",
    "\n",
    "im2 = vibe_dict[\"PINK\"]\n",
    "im2.paste(im, mask=im)\n",
    "\n",
    "im2 = im2.resize((w,h//2))\n",
    "im = im2\n",
    "w,h = im.size\n",
    "\n",
    "text_width = 6\n",
    "i=0\n",
    "text_offset_x = 60\n",
    "text_offset_y = 5\n",
    "\n",
    "def paste_string_at_start_coords(image, word, x_start, y_start, text_spacing):\n",
    "    i = 0\n",
    "    for char in word:\n",
    "        image.paste(text_dict[char], (x_start + (i*text_spacing), y_start), mask=text_dict[char])\n",
    "        i+= 1\n",
    "    \n",
    "im.paste(faceplate, (5, h//4), mask=faceplate)\n",
    "paste_string_at_start_coords(im, name, text_offset_x, text_offset_y, text_width)\n",
    "ability = f\"ABILITY: {ability_name}\"\n",
    "paste_string_at_start_coords(im, ability, text_offset_x, text_offset_y + 20, text_width)\n",
    "\n",
    "apple = background = Image.open(\"images/apple.png\")\n",
    "im.paste(apple, (im.width//2, im.height//2), mask=apple)\n",
    "paste_string_at_start_coords(im, \"2/6\", im.width//2 - 25, im.height//2 +2, text_width)\n",
    "# paste_string_at_start_coords(im, ability_name, text_offset_x+ 10, text_offset_y + 10, text_width)\n",
    "\n",
    "\n",
    "im.show()"
   ]
  },
  {
   "cell_type": "code",
   "execution_count": null,
   "metadata": {},
   "outputs": [],
   "source": []
  }
 ],
 "metadata": {
  "kernelspec": {
   "display_name": "Python 3",
   "language": "python",
   "name": "python3"
  },
  "language_info": {
   "codemirror_mode": {
    "name": "ipython",
    "version": 3
   },
   "file_extension": ".py",
   "mimetype": "text/x-python",
   "name": "python",
   "nbconvert_exporter": "python",
   "pygments_lexer": "ipython3",
   "version": "3.10.4"
  }
 },
 "nbformat": 4,
 "nbformat_minor": 2
}
