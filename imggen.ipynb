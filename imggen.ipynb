{
 "cells": [
  {
   "cell_type": "markdown",
   "metadata": {},
   "source": [
    "# Pokemon RPG Image Generator"
   ]
  },
  {
   "cell_type": "markdown",
   "metadata": {},
   "source": [
    "## To use: \n",
    "\n",
    "Run all code cells. When you see the cell saying `Modify Here`, put your text inputs in "
   ]
  },
  {
   "cell_type": "markdown",
   "metadata": {},
   "source": [
    "## Imports"
   ]
  },
  {
   "cell_type": "code",
   "execution_count": 617,
   "metadata": {},
   "outputs": [],
   "source": [
    "from PIL import Image"
   ]
  },
  {
   "cell_type": "markdown",
   "metadata": {},
   "source": [
    "### Setup images and text"
   ]
  },
  {
   "cell_type": "code",
   "execution_count": 618,
   "metadata": {},
   "outputs": [],
   "source": [
    "all_text = Image.open(\"images/text-sheet.png\")\n",
    "width, height = all_text.size\n",
    "text_width = 12\n",
    "text_height = 12\n",
    "\n",
    "chars = \"abcdefghijklmnopqrstuvwxyzABCDEFGHIJKLMNOPQRSTUVWXYZ1234567890:+-,.¡!¿?''“”♂♀_ /\"\n",
    "text_dict = {}\n",
    "\n",
    "i=0\n",
    "for char in chars:\n",
    "    text_dict[char] = all_text.crop((i*text_width,0,(i+1)*text_width,text_height))\n",
    "    i += 1\n",
    "\n",
    "portrait_background = Image.open(\"images/background.png\")\n",
    "h,w = portrait_background.size\n",
    "\n",
    "\n",
    "vibes = Image.open(\"images/vibes.png\")\n",
    "image = None\n",
    "\n",
    "vibe_types = [\"RED\", \"RED_ORANGE\", \"ORANGE\", \n",
    "              \"ORANGE_YELLOW\", \"YELLOW\", \"LIGHT_YELLOW\", \n",
    "              \"LIGHT_GREEN\", \"GREEN\", \"BLUE_GREEN\", \"LIGHT_BLUE\", \n",
    "              \"BLUE\", \"PURPLE\", \"LIGHT_PINK\", \"PINK\", \"MAGENTA\"]\n",
    "vibe_dict = {}\n",
    "w,h = vibes.size\n",
    "screen_width = w/len(vibe_types)\n",
    "\n",
    "i=0\n",
    "for color in vibe_types:\n",
    "    vibe_dict[color] = vibes.crop((i*screen_width,0,(i+1)*screen_width,h))\n",
    "    i += 1"
   ]
  },
  {
   "cell_type": "markdown",
   "metadata": {},
   "source": [
    "# Modify Here\n",
    "\n",
    "This is where you will configure the content of the plate.\n",
    "\n",
    "- Make sure you define the path to the pokemon image you want, and that the image is either 96x96 or 288x288.\n",
    "- You can type almost any text you want in here for name/ability, but if you use any special characters not included in the text sheet file file, you will get an error later."
   ]
  },
  {
   "cell_type": "code",
   "execution_count": 619,
   "metadata": {},
   "outputs": [
    {
     "name": "stdout",
     "output_type": "stream",
     "text": [
      "Here is a sample of what the faceplate will look like\n"
     ]
    },
    {
     "data": {
      "image/png": "[encoded data removed]",
      "text/plain": [
       "<PIL.Image.Image image mode=RGBA size=288x288>"
      ]
     },
     "execution_count": 619,
     "metadata": {},
     "output_type": "execute_result"
    }
   ],
   "source": [
    "# ---- Faceplate pokemon. Run this a few times until it looks correct ----\n",
    "POKEMON_IMAGE_PATH = \"images/pokemon/505.287.png\"\n",
    "X_OFFSET = 35\n",
    "Y_OFFSET = 10\n",
    "\n",
    "# --- Define stuff on the content of the card ---\n",
    "LEADER = True           # True if this is a larger leader plate. False otherwise\n",
    "NAME = \"Test Leader\"\n",
    "APPLES = \"3/6\"\n",
    "ABILITY_NAME = \"Trace\"\n",
    "\n",
    "\n",
    "# --- Background and styling ---\n",
    "FRAME_COLOR = \"BLUE\"    # BLUE, PINK, or GREEN\n",
    "\n",
    "TOP_COLOR_CHOICE = \"PURPLE\"     # Color choices defined below\n",
    "BOTTOM_COLOR_CHOICE = \"ORANGE_YELLOW\" \n",
    "# \"RED\", \"RED_ORANGE\", \"ORANGE\", \"ORANGE_YELLOW\", \"YELLOW\", \n",
    "# \"LIGHT_YELLOW\", \"LIGHT_GREEN\", \"GREEN\", \"BLUE_GREEN\", \n",
    "# \"LIGHT_BLUE\", \"BLUE\", \"PURPLE\", \"LIGHT_PINK\", \"PINK\", \"MAGENTA\"\n",
    "\n",
    "# ----- DO NOT MODIFY BELOW HERE ----------\n",
    "\n",
    "if FRAME_COLOR == \"PINK\":\n",
    "    frame = Image.open(\"images/frame_pink.png\")\n",
    "elif FRAME_COLOR == \"GREEN\":\n",
    "    frame = Image.open(\"images/frame_green.png\")\n",
    "else:\n",
    "    frame = Image.open(\"images/frame_blue.png\")\n",
    "\n",
    "pokemon = Image.open(POKEMON_IMAGE_PATH)\n",
    "pc = pokemon.resize((96,96), resample=0).crop((X_OFFSET, Y_OFFSET, X_OFFSET+w, Y_OFFSET+h))\n",
    "portrait_background.paste(pc, mask=pc)\n",
    "frame.paste(portrait_background, (4,4), mask=portrait_background)\n",
    "faceplate = frame\n",
    "\n",
    "print(\"Here is a sample of what the faceplate will look like\")\n",
    "faceplate.resize((288,288), resample=0)"
   ]
  },
  {
   "cell_type": "markdown",
   "metadata": {},
   "source": [
    "## Run all the cells below once the above image looks correct"
   ]
  },
  {
   "cell_type": "code",
   "execution_count": 620,
   "metadata": {},
   "outputs": [],
   "source": [
    "# Helper code to allow us to generate text boxes of any size)\n",
    "frame_top_left = frame.crop((0,0,5,5))\n",
    "frame_top_right = frame.crop((frame.width-5,0,frame.width, 5))\n",
    "frame_bottom_left = frame.crop((0,frame.height-5, 5, frame.height))\n",
    "frame_bottom_right = frame.crop((frame.width-5,frame.height-5,frame.width,frame.height))\n",
    "\n",
    "frame_top = frame.crop((frame.width//2,0,frame.width//2 + 1, 5))\n",
    "frame_right = frame.crop((frame.width-5, frame.height//2, frame.width, frame.height//2 + 1))\n",
    "frame_left = frame.crop((0 ,frame.height//2 ,5, frame.height//2 + 1))\n",
    "frame_bottom = frame.crop((frame.width//2,frame.height -5 ,frame.width//2 + 1, frame.height))\n",
    "\n",
    "\n",
    "def make_frame_with_size(x,y):\n",
    "    new_frame = Image.new(\"RGBA\",(x,y), (0,0,0,0))\n",
    "    if x < 10 or y<10:\n",
    "        raise ValueError\n",
    "\n",
    "    new_frame.paste(frame_top_left, (0,0), mask=frame_top_left)\n",
    "    new_frame.paste(frame_top_right, (x-5,0), mask=frame_top_right)\n",
    "    new_frame.paste(frame_bottom_left, (0,y-5), mask=frame_bottom_left)\n",
    "    new_frame.paste(frame_bottom_right, (x-5,y-5), mask=frame_bottom_right)\n",
    "\n",
    "    width_to_fill = x-10\n",
    "    height_to_fill = y-10\n",
    "\n",
    "    top_bar = frame_top.resize((width_to_fill,5), resample=0)\n",
    "    bottom_bar = frame_bottom.resize((width_to_fill,5), resample=0)\n",
    "    left_bar = frame_left.resize((5,height_to_fill), resample=0)\n",
    "    right_bar = frame_right.resize((5,height_to_fill), resample=0)\n",
    "\n",
    "    new_frame.paste(top_bar, (5,0), mask=top_bar)\n",
    "    new_frame.paste(bottom_bar, (5,y-5), mask=bottom_bar)\n",
    "    new_frame.paste(left_bar, (0,5), mask=left_bar)\n",
    "    new_frame.paste(right_bar, (x-5,5), mask=right_bar)\n",
    "\n",
    "    black_box = Image.new(\"RGBA\",(x-8, y-8), (32,32,32,255))\n",
    "    new_frame.paste(black_box, (4,4), mask=black_box)\n",
    "\n",
    "    return new_frame\n",
    "\n",
    "# Helper function to write out text\n",
    "def paste_string_at_start_coords(image, word, x_start, y_start, text_spacing, big=False):\n",
    "    i = 0\n",
    "    for char in word:\n",
    "        char_img = text_dict[char].resize((24,24), resample=0) if big else text_dict[char]\n",
    "        image.paste(char_img, (x_start + (i*text_spacing), y_start), mask=char_img)\n",
    "        i+= 1"
   ]
  },
  {
   "cell_type": "markdown",
   "metadata": {},
   "source": [
    "## Make the card"
   ]
  },
  {
   "cell_type": "code",
   "execution_count": 623,
   "metadata": {},
   "outputs": [],
   "source": [
    "# Make the wavy background\n",
    "\n",
    "\n",
    "top_im = vibe_dict[TOP_COLOR_CHOICE]\n",
    "w,h = top_im.size\n",
    "im = top_im.crop((0, 0, w, h/2))\n",
    "\n",
    "background = vibe_dict[BOTTOM_COLOR_CHOICE]\n",
    "background.paste(im, mask=im.convert('RGBA'))\n",
    "\n",
    "# Try to make the middle look less ugly\n",
    "white = Image.new(\"RGBA\",(background.width, background.height//20), (255,255,255, 235))\n",
    "background.paste(white, (0, background.height//2))\n",
    "\n",
    "# Resize the image based on what kind of card we are making\n",
    "if LEADER:\n",
    "    background = background.resize((w, background.height//2))\n",
    "else:\n",
    "    background = background.resize((w, background.height//2))\n",
    "\n",
    "# Composite our elements on there\n",
    "image = background\n",
    "image_width, image_height = image.size\n",
    "\n",
    "text_spacing = 7\n",
    "i=0\n",
    "text_offset_x = 60\n",
    "text_offset_y = 2\n",
    "text_box_height = 45 if LEADER else 25\n",
    "\n",
    "image.paste(faceplate, (5, image_height//2 - faceplate.height//2), mask=faceplate)\n",
    "\n",
    "# Make the textbox\n",
    "ability = f\"ABILITY: {ABILITY_NAME}\"\n",
    "textbox_size = len(ability) * (text_spacing)+ 20\n",
    "text_box = make_frame_with_size(textbox_size,text_box_height)\n",
    "paste_string_at_start_coords(text_box, ability, 7, 7, text_spacing)\n",
    "\n",
    "if LEADER:\n",
    "    apple = Image.open(\"images/apple.png\")\n",
    "    text_box.paste(apple, (text_box.width//2 - 24, text_box.height//2), mask=apple)\n",
    "    paste_string_at_start_coords(text_box, APPLES, text_box.width//2 - 5, text_box.height//2 +2, text_spacing)\n",
    "\n",
    "right_x_offset = (image.width//2 - text_box.width//2 + faceplate.width//2)\n",
    "\n",
    "image.paste(text_box, (right_x_offset, image.height//2 - text_box.height//2 + text_box_height//6), mask=text_box)\n",
    "\n",
    "if LEADER:\n",
    "    paste_string_at_start_coords(image, NAME, (right_x_offset + text_box.width//2 - ((len(NAME) * text_spacing))), text_offset_y, text_spacing*2, big=True)\n",
    "\n",
    "image.show()\n"
   ]
  },
  {
   "cell_type": "code",
   "execution_count": null,
   "metadata": {},
   "outputs": [],
   "source": []
  }
 ],
 "metadata": {
  "kernelspec": {
   "display_name": "Python 3",
   "language": "python",
   "name": "python3"
  },
  "language_info": {
   "codemirror_mode": {
    "name": "ipython",
    "version": 3
   },
   "file_extension": ".py",
   "mimetype": "text/x-python",
   "name": "python",
   "nbconvert_exporter": "python",
   "pygments_lexer": "ipython3",
   "version": "3.10.4"
  }
 },
 "nbformat": 4,
 "nbformat_minor": 4
}
