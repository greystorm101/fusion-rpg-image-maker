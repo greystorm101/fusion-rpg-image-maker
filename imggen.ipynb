{
 "cells": [
  {
   "cell_type": "markdown",
   "metadata": {},
   "source": [
    "# Pokemon RPG Image Generator"
   ]
  },
  {
   "cell_type": "markdown",
   "metadata": {},
   "source": [
    "## To use: \n",
    "\n",
    "- Run all code cells in order. There should not be any errors or outputs except for images.\n",
    "\n",
    "- When you see the cell saying `Modify Here`, edit the marked portion of that cell and run it."
   ]
  },
  {
   "cell_type": "markdown",
   "metadata": {},
   "source": [
    "### Imports"
   ]
  },
  {
   "cell_type": "code",
   "execution_count": 1,
   "metadata": {},
   "outputs": [],
   "source": [
    "from PIL import Image"
   ]
  },
  {
   "cell_type": "markdown",
   "metadata": {},
   "source": [
    "### Setup images and text"
   ]
  },
  {
   "cell_type": "code",
   "execution_count": 2,
   "metadata": {},
   "outputs": [],
   "source": [
    "all_text = Image.open(\"images/text-sheet.png\")\n",
    "width, height = all_text.size\n",
    "text_width = 12\n",
    "text_height = 12\n",
    "\n",
    "chars = \"abcdefghijklmnopqrstuvwxyzABCDEFGHIJKLMNOPQRSTUVWXYZ1234567890:+-,.¡!¿?''“”♂♀_ /\"\n",
    "text_dict = {}\n",
    "\n",
    "i=0\n",
    "for char in chars:\n",
    "    text_dict[char] = all_text.crop((i*text_width,0,(i+1)*text_width,text_height))\n",
    "    i += 1\n",
    "\n",
    "portrait_background = Image.open(\"images/background.png\")\n",
    "h,w = portrait_background.size\n",
    "\n",
    "\n",
    "vibes = Image.open(\"images/vibes.png\")\n",
    "image = None\n",
    "\n",
    "vibe_types = [\"RED\", \"RED_ORANGE\", \"ORANGE\", \"ORANGE_YELLOW\", \"YELLOW\", \"LIGHT_YELLOW\", \"LIGHT_GREEN\",\n",
    "              \"GREEN\", \"BLUE_GREEN\", \"LIGHT_BLUE\", \"BLUE\", \"LIGHT_PURPLE\", \"LIGHT_PINK\", \"PINK\", \n",
    "              \"MAGENTA\", \"DARK_GREY\", \"DARK_PURPLE\", \"WHITE\", \"LIGHT_BROWN\", \"BROWN\", \"SILVER\", \"PURPLE\"]\n",
    "vibe_dict = {}\n",
    "w,h = vibes.size\n",
    "screen_width = w/len(vibe_types)\n",
    "\n",
    "i=0\n",
    "for color in vibe_types:\n",
    "    vibe_dict[color] = vibes.crop((i*screen_width,0,(i+1)*screen_width,h))\n",
    "    i += 1"
   ]
  },
  {
   "cell_type": "markdown",
   "metadata": {},
   "source": [
    "# Modify Here\n",
    "\n",
    "This is where you will configure the content of the plate.\n",
    "\n",
    "- Make sure you define the path to the pokemon image you want, and that the image is either 96x96 or 288x288.\n",
    "- You can type almost any text you want in here for name/ability, but if you use any special characters not included in the text sheet file file, you will get an error later."
   ]
  },
  {
   "cell_type": "code",
   "execution_count": 3,
   "metadata": {},
   "outputs": [
    {
     "name": "stdout",
     "output_type": "stream",
     "text": [
      "Here is a sample of what the faceplate will look like\n"
     ]
    },
    {
     "data": {
      "image/png": "[encoded data removed]",
      "text/plain": [
       "<PIL.Image.Image image mode=RGBA size=288x288>"
      ]
     },
     "execution_count": 3,
     "metadata": {},
     "output_type": "execute_result"
    }
   ],
   "source": [
    "# ---- Faceplate pokemon. Run this a few times until it looks correct ----\n",
    "POKEMON_IMAGE_PATH = \"images/pokemon/171.446.png\"\n",
    "X_OFFSET = 10\n",
    "Y_OFFSET = 10\n",
    "\n",
    "\n",
    "# --- Define stuff on the content of the card ---\n",
    "LEADER = True   # True if this is a larger leader plate. False otherwise\n",
    "NAME = \"Sample Player\"\n",
    "ABILITY_NAME = \"Lightning Rod\"\n",
    "LEADER_ABILITY_NAME = \"Illuminate\"\n",
    "APPLES = \"6/12\"\n",
    "MONEY = \"50\"\n",
    "\n",
    "# --- Items ---\n",
    "# Items should be a 16x16 file in the images/items folder. Type the exact filename here minus the png extension.\n",
    "ITEM1 = \"apple\"\n",
    "ITEM2 = \"gold-gummi\"\n",
    "ITEM3 = \"pink-berry\"\n",
    "ITEM4 = \"item\"\n",
    "ITEM5 = \"tm\"\n",
    "ITEM6 = \"none\"\n",
    "ITEM7 = \"none\"\n",
    "ITEM8 = \"none\"\n",
    "\n",
    "ITEM1_ACTIVE = False\n",
    "ITEM2_ACTIVE = True\n",
    "ITEM3_ACTIVE = False\n",
    "ITEM4_ACTIVE = False\n",
    "ITEM5_ACTIVE = False\n",
    "ITEM6_ACTIVE = False\n",
    "ITEM7_ACTIVE = False\n",
    "ITEM8_ACTIVE = False\n",
    "\n",
    "# --- Background and styling ---\n",
    "FRAME_COLOR = \"BLUE\"    # BLUE, PINK, or GREEN\n",
    "\n",
    "TOP_COLOR_CHOICE = \"LIGHT_BLUE\"     # Color choices defined below\n",
    "BOTTOM_COLOR_CHOICE = \"LIGHT_YELLOW\" \n",
    "# \"RED\", \"RED_ORANGE\", \"ORANGE\", \"ORANGE_YELLOW\", \"YELLOW\", \"LIGHT_YELLOW\", \"LIGHT_GREEN\",\n",
    "# \"GREEN\", \"BLUE_GREEN\", \"LIGHT_BLUE\", \"BLUE\", \"LIGHT_PURPLE\", \"LIGHT_PINK\", \"PINK\", \n",
    "# \"MAGENTA\", \"DARK_GREY\", \"DARK_PURPLE\", \"WHITE\", \"LIGHT_BROWN\", \"BROWN\", \"SILVER\", \"PURPLE\"\n",
    "\n",
    "# ----- DO NOT MODIFY BELOW HERE ----------\n",
    "\n",
    "if FRAME_COLOR == \"PINK\":\n",
    "    frame = Image.open(\"images/frame_pink.png\")\n",
    "elif FRAME_COLOR == \"GREEN\":\n",
    "    frame = Image.open(\"images/frame_green.png\")\n",
    "else:\n",
    "    frame = Image.open(\"images/frame_blue.png\")\n",
    "\n",
    "# This just refreshes the background on this cell\n",
    "portrait_background = Image.open(\"images/background.png\")\n",
    "\n",
    "pokemon = Image.open(POKEMON_IMAGE_PATH)\n",
    "pc = pokemon.resize((96,96), resample=0).crop((X_OFFSET, Y_OFFSET, X_OFFSET+w, Y_OFFSET+h))\n",
    "portrait_background.paste(pc, mask=pc)\n",
    "frame.paste(portrait_background, (4,4), mask=portrait_background)\n",
    "faceplate = frame\n",
    "\n",
    "print(\"Here is a sample of what the faceplate will look like\")\n",
    "faceplate.resize((288,288), resample=0)"
   ]
  },
  {
   "cell_type": "markdown",
   "metadata": {},
   "source": [
    "## Run all the cells below once the above image looks correct"
   ]
  },
  {
   "cell_type": "code",
   "execution_count": 4,
   "metadata": {},
   "outputs": [],
   "source": [
    "# Helper code to allow us to generate text boxes of any size)\n",
    "frame_top_left = frame.crop((0,0,5,5))\n",
    "frame_top_right = frame.crop((frame.width-5,0,frame.width, 5))\n",
    "frame_bottom_left = frame.crop((0,frame.height-5, 5, frame.height))\n",
    "frame_bottom_right = frame.crop((frame.width-5,frame.height-5,frame.width,frame.height))\n",
    "\n",
    "frame_top = frame.crop((frame.width//2,0,frame.width//2 + 1, 5))\n",
    "frame_right = frame.crop((frame.width-5, frame.height//2, frame.width, frame.height//2 + 1))\n",
    "frame_left = frame.crop((0 ,frame.height//2 ,5, frame.height//2 + 1))\n",
    "frame_bottom = frame.crop((frame.width//2,frame.height -5 ,frame.width//2 + 1, frame.height))\n",
    "\n",
    "\n",
    "def make_frame_with_size(x,y):\n",
    "    new_frame = Image.new(\"RGBA\",(x,y), (0,0,0,0))\n",
    "    if x < 10 or y<10:\n",
    "        raise ValueError\n",
    "\n",
    "    new_frame.paste(frame_top_left, (0,0), mask=frame_top_left)\n",
    "    new_frame.paste(frame_top_right, (x-5,0), mask=frame_top_right)\n",
    "    new_frame.paste(frame_bottom_left, (0,y-5), mask=frame_bottom_left)\n",
    "    new_frame.paste(frame_bottom_right, (x-5,y-5), mask=frame_bottom_right)\n",
    "\n",
    "    width_to_fill = x-10\n",
    "    height_to_fill = y-10\n",
    "\n",
    "    top_bar = frame_top.resize((width_to_fill,5), resample=0)\n",
    "    bottom_bar = frame_bottom.resize((width_to_fill,5), resample=0)\n",
    "    left_bar = frame_left.resize((5,height_to_fill), resample=0)\n",
    "    right_bar = frame_right.resize((5,height_to_fill), resample=0)\n",
    "\n",
    "    new_frame.paste(top_bar, (5,0), mask=top_bar)\n",
    "    new_frame.paste(bottom_bar, (5,y-5), mask=bottom_bar)\n",
    "    new_frame.paste(left_bar, (0,5), mask=left_bar)\n",
    "    new_frame.paste(right_bar, (x-5,5), mask=right_bar)\n",
    "\n",
    "    black_box = Image.new(\"RGBA\",(x-8, y-8), (32,32,32,255))\n",
    "    new_frame.paste(black_box, (4,4), mask=black_box)\n",
    "\n",
    "    return new_frame\n",
    "\n",
    "# Helper function to write out text\n",
    "def paste_string_at_start_coords(image, word, x_start, y_start, text_spacing, big=False):\n",
    "    i = 0\n",
    "    for char in word:\n",
    "        char_img = text_dict[char].resize((24,24), resample=0) if big else text_dict[char]\n",
    "        image.paste(char_img, (x_start + (i*text_spacing), y_start), mask=char_img)\n",
    "        i+= 1"
   ]
  },
  {
   "cell_type": "markdown",
   "metadata": {},
   "source": [
    "## Make the card\n",
    "\n",
    "This is the cell where all the drawing happens.\n",
    "\n",
    "If you need to adjust the placement of anything on the canvas, here is where you can play with that"
   ]
  },
  {
   "cell_type": "code",
   "execution_count": 5,
   "metadata": {},
   "outputs": [
    {
     "name": "stdout",
     "output_type": "stream",
     "text": [
      "256\n"
     ]
    },
    {
     "data": {
      "image/png": "[encoded data removed]",
      "text/plain": [
       "<PIL.Image.Image image mode=RGBA size=256x155>"
      ]
     },
     "execution_count": 5,
     "metadata": {},
     "output_type": "execute_result"
    }
   ],
   "source": [
    "# ----- Most of the layout is done based on proportions, but there are a few offsets that are added manually. You can play with those here. ------\n",
    "\n",
    "text_spacing = 7 # How many pixels apart each text character should be\n",
    "name_offset_y = 14 # How many pixels from the top the player name is\n",
    "faceplate_x = 10 # Distance between the left side of the screen and the faceplate\n",
    "\n",
    "text_box_height = 56 if LEADER else 26 # How tall the text box is\n",
    "textbox_margins_x = 16 # How many pixels of padding minimum we want to the right of the last character in the text box\n",
    "\n",
    "ability_text_start_x = 7 # How many pixels of breathing room the ability text has on the left of the text box\n",
    "ability_text_start_y = 7 # How many pixels of breathing room the ability text has on the top of the text box\n",
    "leader_ability_spacing_y = 11 # How many pixels down from the ability do we start writing the leader ability\n",
    "\n",
    "apple_money_spacing = 20 # amount of spacing between the end of the apple text and the start of the money text\n",
    "apple_text_spacing = 4 # space between the apple icon and the start of the text\n",
    "money_text_spacing = 4 # space between the money icon and the start of the text\n",
    "apple_money_height = 7 # distance between center of the text box and the apples/money display\n",
    "\n",
    "item_spacing_y = 13 # distance between the items and the bottom of the image\n",
    "item_between_spacing = 2 # distance between each item\n",
    "\n",
    "# --------------\n",
    "\n",
    "# Make the wavy background\n",
    "top_im = vibe_dict[TOP_COLOR_CHOICE]\n",
    "w,h = top_im.size\n",
    "im = top_im.crop((0, 0, w, h/2))\n",
    "\n",
    "background = vibe_dict[BOTTOM_COLOR_CHOICE]\n",
    "background.paste(im, mask=im.convert('RGBA'))\n",
    "\n",
    "# Try to make the middle look a little less ugly\n",
    "white = Image.new(\"RGBA\",(background.width, background.height//20), (255,255,255, 235))\n",
    "background.paste(white, (0, background.height//2))\n",
    "\n",
    "# Resize the image based on what kind of card we are making\n",
    "if LEADER:\n",
    "    background = background.resize((w, background.height - background.height//6))\n",
    "else:\n",
    "    background = background.resize((w, background.height//3))\n",
    "\n",
    "# Composite our elements on there\n",
    "image = background\n",
    "image_width, image_height = image.size\n",
    "\n",
    "image.paste(faceplate, (faceplate_x, image_height//2 - faceplate.height//2), mask=faceplate)\n",
    "\n",
    "# Make the textbox\n",
    "ability = f\"ABILITY : {ABILITY_NAME}\"\n",
    "textbox_size = len(ability) * (text_spacing) + textbox_margins_x\n",
    "\n",
    "leader_ability = f\"LEAD ABL: {LEADER_ABILITY_NAME}\"\n",
    "if LEADER:\n",
    "    # If we need to put money and leader ability on the card, make sure we have space for that \n",
    "    icon_spacing_needed = 16 + apple_text_spacing + len(APPLES) * text_spacing + apple_money_spacing + 16 + money_text_spacing + len(MONEY) * (text_spacing)\n",
    "    textbox_size = max([textbox_size, \n",
    "                        len(leader_ability) * (text_spacing) + textbox_margins_x, \n",
    "                        icon_spacing_needed + textbox_margins_x])\n",
    "\n",
    "text_box = make_frame_with_size(textbox_size,text_box_height)\n",
    "paste_string_at_start_coords(text_box, ability, ability_text_start_x, ability_text_start_y, text_spacing)\n",
    "\n",
    "if LEADER:\n",
    "    paste_string_at_start_coords(text_box, leader_ability, ability_text_start_x, ability_text_start_y + leader_ability_spacing_y, text_spacing)\n",
    "    \n",
    "    # Fill in the apple and money icons\n",
    "    apple = Image.open(\"images/apple.png\")\n",
    "    money_icon = Image.open(\"images/money.png\")\n",
    "\n",
    "    icon_width = apple.width + apple_text_spacing + len(APPLES) * text_spacing + apple_money_spacing + money_icon.width + money_text_spacing + len(MONEY) * (text_spacing)\n",
    "    start_x = text_box.width//2 - icon_width //2\n",
    "\n",
    "    text_box.paste(apple, (start_x, text_box.height//2 + apple_money_height), mask=apple)\n",
    "    start_x += apple.width + apple_text_spacing\n",
    "\n",
    "    paste_string_at_start_coords(text_box, APPLES, start_x, text_box.height//2 +apple_money_height+2, text_spacing)\n",
    "    start_x += len(APPLES) * text_spacing + apple_money_spacing\n",
    "\n",
    "    text_box.paste(money_icon, (start_x, text_box.height//2 + apple_money_height ), mask=money_icon)\n",
    "    start_x += money_icon.width + money_text_spacing\n",
    "\n",
    "    paste_string_at_start_coords(text_box, MONEY, start_x, text_box.height//2 +apple_money_height+2, text_spacing)\n",
    "\n",
    "# Paste the textbox in the center of the remaining area\n",
    "right_x_offset = ( (image.width + faceplate.width + faceplate_x)//2 - text_box.width //2)\n",
    "image.paste(text_box, (right_x_offset, image.height//2 - text_box.height//2), mask=text_box)\n",
    "\n",
    "if LEADER:\n",
    "    # Name at the top\n",
    "    paste_string_at_start_coords(image, NAME, (image.width//2 - ((len(NAME) * text_spacing))), name_offset_y, text_spacing *2, big=True)\n",
    "\n",
    "    # Add items\n",
    "    items = [(ITEM1, ITEM1_ACTIVE), (ITEM2, ITEM2_ACTIVE), (ITEM3, ITEM3_ACTIVE), (ITEM4, ITEM4_ACTIVE), (ITEM5, ITEM5_ACTIVE), (ITEM6, ITEM6_ACTIVE), (ITEM7, ITEM7_ACTIVE), (ITEM8, ITEM8_ACTIVE)]\n",
    "    num_item = len(items)\n",
    "    box_size = 16+10+2 # Items are 16x16, frames have 5 width borders, and 1 pix buffer for the outline\n",
    "    length_of_bar = num_item * box_size + ( item_between_spacing * num_item - 1)\n",
    "    start_items_x = image.width//2 - length_of_bar//2\n",
    "\n",
    "    for i in range(num_item):\n",
    "        item, is_active = items[i]\n",
    "        item_image = Image.open(f\"images/items/{item}.png\")\n",
    "        item_box = make_frame_with_size(box_size,box_size) \n",
    "        \n",
    "        # Add an outline if we need it\n",
    "        if is_active:\n",
    "            outline = Image.new(\"RGBA\", (18, 18), (240, 216, 104, 255))\n",
    "            fillin = Image.new(\"RGBA\", (16, 16), (32,32,32,255))\n",
    "            item_box.paste(outline, (5,5), mask=outline)\n",
    "            item_box.paste(fillin, (6,6), mask=fillin)\n",
    "\n",
    "        item_box.paste(item_image, (6,6), mask=item_image)\n",
    "        image.paste(item_box, (start_items_x + ((item_box.width + item_between_spacing) * i), image.height - item_box.height - item_spacing_y), mask=item_box)\n",
    "\n",
    "image.show()\n",
    "print(image_width)\n",
    "image\n",
    "\n"
   ]
  },
  {
   "cell_type": "markdown",
   "metadata": {},
   "source": [
    "## Run this cell for upscaled images"
   ]
  },
  {
   "cell_type": "code",
   "execution_count": 6,
   "metadata": {
    "scrolled": true
   },
   "outputs": [
    {
     "data": {
      "image/png": "[encoded data removed]",
      "text/plain": [
       "<PIL.Image.Image image mode=RGBA size=512x310>"
      ]
     },
     "execution_count": 6,
     "metadata": {},
     "output_type": "execute_result"
    }
   ],
   "source": [
    "image.resize((image.width*2,image.height*2), resample=0).show()\n",
    "image.resize((image.width*2,image.height*2), resample=0)"
   ]
  }
 ],
 "metadata": {
  "kernelspec": {
   "display_name": "Python 3",
   "language": "python",
   "name": "python3"
  },
  "language_info": {
   "codemirror_mode": {
    "name": "ipython",
    "version": 3
   },
   "file_extension": ".py",
   "mimetype": "text/x-python",
   "name": "python",
   "nbconvert_exporter": "python",
   "pygments_lexer": "ipython3",
   "version": "3.10.4"
  }
 },
 "nbformat": 4,
 "nbformat_minor": 4
}
